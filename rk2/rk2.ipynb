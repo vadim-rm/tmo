{
 "cells": [
  {
   "cell_type": "markdown",
   "id": "a504c2bf",
   "metadata": {},
   "source": [
    "# Классификация персонажей Marvel"
   ]
  },
  {
   "cell_type": "markdown",
   "id": "b69ef6ff",
   "metadata": {},
   "source": [
    "## Загрузка библиотек и необходимых модулей"
   ]
  },
  {
   "cell_type": "code",
   "execution_count": 18,
   "id": "ef34a56e",
   "metadata": {},
   "outputs": [],
   "source": [
    "import pandas as pd\n",
    "import matplotlib.pyplot as plt\n",
    "import seaborn as sns\n",
    "from sklearn.model_selection import train_test_split\n",
    "from sklearn.preprocessing import LabelEncoder, StandardScaler\n",
    "from sklearn.impute import SimpleImputer\n",
    "from sklearn.ensemble import RandomForestClassifier\n",
    "from sklearn.svm import SVC\n",
    "from sklearn.metrics import accuracy_score, f1_score, confusion_matrix\n"
   ]
  },
  {
   "cell_type": "markdown",
   "id": "cdb325d0",
   "metadata": {},
   "source": [
    "## Загрузка данных\n",
    "Загрузим набор данных `marvel-wikia-data.csv`"
   ]
  },
  {
   "cell_type": "code",
   "execution_count": 19,
   "id": "9ebe71c4",
   "metadata": {},
   "outputs": [
    {
     "name": "stdout",
     "output_type": "stream",
     "text": [
      "Размер данных: (16376, 13)\n"
     ]
    },
    {
     "data": {
      "text/html": [
       "<div>\n",
       "<style scoped>\n",
       "    .dataframe tbody tr th:only-of-type {\n",
       "        vertical-align: middle;\n",
       "    }\n",
       "\n",
       "    .dataframe tbody tr th {\n",
       "        vertical-align: top;\n",
       "    }\n",
       "\n",
       "    .dataframe thead th {\n",
       "        text-align: right;\n",
       "    }\n",
       "</style>\n",
       "<table border=\"1\" class=\"dataframe\">\n",
       "  <thead>\n",
       "    <tr style=\"text-align: right;\">\n",
       "      <th></th>\n",
       "      <th>page_id</th>\n",
       "      <th>name</th>\n",
       "      <th>urlslug</th>\n",
       "      <th>ID</th>\n",
       "      <th>ALIGN</th>\n",
       "      <th>EYE</th>\n",
       "      <th>HAIR</th>\n",
       "      <th>SEX</th>\n",
       "      <th>GSM</th>\n",
       "      <th>ALIVE</th>\n",
       "      <th>APPEARANCES</th>\n",
       "      <th>FIRST APPEARANCE</th>\n",
       "      <th>Year</th>\n",
       "    </tr>\n",
       "  </thead>\n",
       "  <tbody>\n",
       "    <tr>\n",
       "      <th>0</th>\n",
       "      <td>1678</td>\n",
       "      <td>Spider-Man (Peter Parker)</td>\n",
       "      <td>\\/Spider-Man_(Peter_Parker)</td>\n",
       "      <td>Secret Identity</td>\n",
       "      <td>Good Characters</td>\n",
       "      <td>Hazel Eyes</td>\n",
       "      <td>Brown Hair</td>\n",
       "      <td>Male Characters</td>\n",
       "      <td>NaN</td>\n",
       "      <td>Living Characters</td>\n",
       "      <td>4043.0</td>\n",
       "      <td>Aug-62</td>\n",
       "      <td>1962.0</td>\n",
       "    </tr>\n",
       "    <tr>\n",
       "      <th>1</th>\n",
       "      <td>7139</td>\n",
       "      <td>Captain America (Steven Rogers)</td>\n",
       "      <td>\\/Captain_America_(Steven_Rogers)</td>\n",
       "      <td>Public Identity</td>\n",
       "      <td>Good Characters</td>\n",
       "      <td>Blue Eyes</td>\n",
       "      <td>White Hair</td>\n",
       "      <td>Male Characters</td>\n",
       "      <td>NaN</td>\n",
       "      <td>Living Characters</td>\n",
       "      <td>3360.0</td>\n",
       "      <td>Mar-41</td>\n",
       "      <td>1941.0</td>\n",
       "    </tr>\n",
       "    <tr>\n",
       "      <th>2</th>\n",
       "      <td>64786</td>\n",
       "      <td>Wolverine (James \\\"Logan\\\" Howlett)</td>\n",
       "      <td>\\/Wolverine_(James_%22Logan%22_Howlett)</td>\n",
       "      <td>Public Identity</td>\n",
       "      <td>Neutral Characters</td>\n",
       "      <td>Blue Eyes</td>\n",
       "      <td>Black Hair</td>\n",
       "      <td>Male Characters</td>\n",
       "      <td>NaN</td>\n",
       "      <td>Living Characters</td>\n",
       "      <td>3061.0</td>\n",
       "      <td>Oct-74</td>\n",
       "      <td>1974.0</td>\n",
       "    </tr>\n",
       "    <tr>\n",
       "      <th>3</th>\n",
       "      <td>1868</td>\n",
       "      <td>Iron Man (Anthony \\\"Tony\\\" Stark)</td>\n",
       "      <td>\\/Iron_Man_(Anthony_%22Tony%22_Stark)</td>\n",
       "      <td>Public Identity</td>\n",
       "      <td>Good Characters</td>\n",
       "      <td>Blue Eyes</td>\n",
       "      <td>Black Hair</td>\n",
       "      <td>Male Characters</td>\n",
       "      <td>NaN</td>\n",
       "      <td>Living Characters</td>\n",
       "      <td>2961.0</td>\n",
       "      <td>Mar-63</td>\n",
       "      <td>1963.0</td>\n",
       "    </tr>\n",
       "    <tr>\n",
       "      <th>4</th>\n",
       "      <td>2460</td>\n",
       "      <td>Thor (Thor Odinson)</td>\n",
       "      <td>\\/Thor_(Thor_Odinson)</td>\n",
       "      <td>No Dual Identity</td>\n",
       "      <td>Good Characters</td>\n",
       "      <td>Blue Eyes</td>\n",
       "      <td>Blond Hair</td>\n",
       "      <td>Male Characters</td>\n",
       "      <td>NaN</td>\n",
       "      <td>Living Characters</td>\n",
       "      <td>2258.0</td>\n",
       "      <td>Nov-50</td>\n",
       "      <td>1950.0</td>\n",
       "    </tr>\n",
       "  </tbody>\n",
       "</table>\n",
       "</div>"
      ],
      "text/plain": [
       "   page_id                                 name  \\\n",
       "0     1678            Spider-Man (Peter Parker)   \n",
       "1     7139      Captain America (Steven Rogers)   \n",
       "2    64786  Wolverine (James \\\"Logan\\\" Howlett)   \n",
       "3     1868    Iron Man (Anthony \\\"Tony\\\" Stark)   \n",
       "4     2460                  Thor (Thor Odinson)   \n",
       "\n",
       "                                   urlslug                ID  \\\n",
       "0              \\/Spider-Man_(Peter_Parker)   Secret Identity   \n",
       "1        \\/Captain_America_(Steven_Rogers)   Public Identity   \n",
       "2  \\/Wolverine_(James_%22Logan%22_Howlett)   Public Identity   \n",
       "3    \\/Iron_Man_(Anthony_%22Tony%22_Stark)   Public Identity   \n",
       "4                    \\/Thor_(Thor_Odinson)  No Dual Identity   \n",
       "\n",
       "                ALIGN         EYE        HAIR              SEX  GSM  \\\n",
       "0     Good Characters  Hazel Eyes  Brown Hair  Male Characters  NaN   \n",
       "1     Good Characters   Blue Eyes  White Hair  Male Characters  NaN   \n",
       "2  Neutral Characters   Blue Eyes  Black Hair  Male Characters  NaN   \n",
       "3     Good Characters   Blue Eyes  Black Hair  Male Characters  NaN   \n",
       "4     Good Characters   Blue Eyes  Blond Hair  Male Characters  NaN   \n",
       "\n",
       "               ALIVE  APPEARANCES FIRST APPEARANCE    Year  \n",
       "0  Living Characters       4043.0           Aug-62  1962.0  \n",
       "1  Living Characters       3360.0           Mar-41  1941.0  \n",
       "2  Living Characters       3061.0           Oct-74  1974.0  \n",
       "3  Living Characters       2961.0           Mar-63  1963.0  \n",
       "4  Living Characters       2258.0           Nov-50  1950.0  "
      ]
     },
     "execution_count": 19,
     "metadata": {},
     "output_type": "execute_result"
    }
   ],
   "source": [
    "# Загрузка данных\n",
    "df = pd.read_csv(\"marvel-wikia-data.csv\")\n",
    "print(\"Размер данных:\", df.shape)\n",
    "df.head()"
   ]
  },
  {
   "cell_type": "markdown",
   "id": "844b3a64",
   "metadata": {},
   "source": [
    "## Предварительный анализ и отбор целевой переменной\n",
    "Целевой переменной в данной задаче выберем `SEX` — пол персонажа. Ограничим данные только строками, где явно указан пол (мужской или женский)."
   ]
  },
  {
   "cell_type": "code",
   "execution_count": 20,
   "id": "95dfb89e",
   "metadata": {},
   "outputs": [],
   "source": [
    "# Удалим строки с неопределенным полом\n",
    "df = df[df['SEX'].isin(['Male Characters', 'Female Characters'])]"
   ]
  },
  {
   "cell_type": "markdown",
   "id": "15c23826",
   "metadata": {},
   "source": [
    "## Выбор признаков\n",
    "Выбираем информативные признаки, которые, по нашему мнению, могут повлиять на пол персонажа, такие как выравнивание, цвет глаз и волос, статус, число появлений и дата первого появления."
   ]
  },
  {
   "cell_type": "code",
   "execution_count": 21,
   "id": "03a3c650",
   "metadata": {},
   "outputs": [],
   "source": [
    "# Упрощение и отбор признаков\n",
    "features = ['ALIGN', 'EYE', 'HAIR', 'GSM', 'ALIVE', 'APPEARANCES', 'FIRST APPEARANCE']\n",
    "X = df[features]\n",
    "y = df['SEX']"
   ]
  },
  {
   "cell_type": "markdown",
   "id": "44ff6b06",
   "metadata": {},
   "source": [
    "## Обработка пропусков\n",
    "Пропущенные значения будут заполнены наиболее частыми (модой) для соответствующего признака."
   ]
  },
  {
   "cell_type": "code",
   "execution_count": 22,
   "id": "f09df04d",
   "metadata": {},
   "outputs": [],
   "source": [
    "# Обработка пропусков\n",
    "imputer = SimpleImputer(strategy='most_frequent')\n",
    "X_imputed = pd.DataFrame(imputer.fit_transform(X), columns=X.columns)"
   ]
  },
  {
   "cell_type": "markdown",
   "id": "bcd93b05",
   "metadata": {},
   "source": [
    "## Преобразование числовых признаков\n",
    "- `APPEARANCES`: приводим к числовому типу\n",
    "- `FIRST APPEARANCE`: извлекаем только год из строки и также приводим к числу"
   ]
  },
  {
   "cell_type": "code",
   "execution_count": 23,
   "id": "7db40df9",
   "metadata": {},
   "outputs": [],
   "source": [
    "# Обработка числовых признаков\n",
    "X_imputed['APPEARANCES'] = pd.to_numeric(X_imputed['APPEARANCES'], errors='coerce').fillna(0).astype(int)\n",
    "X_imputed['FIRST APPEARANCE'] = pd.to_numeric(X_imputed['FIRST APPEARANCE'].str.extract(r'(\\d{4})')[0], errors='coerce').fillna(0).astype(int)"
   ]
  },
  {
   "cell_type": "markdown",
   "id": "4f1adbf4",
   "metadata": {},
   "source": [
    "## Кодирование признаков\n",
    "- Категориальные признаки кодируются с помощью `pd.get_dummies`\n",
    "- Целевая переменная кодируется через `LabelEncoder` (0 — Female, 1 — Male)"
   ]
  },
  {
   "cell_type": "code",
   "execution_count": 24,
   "id": "ac9cf0ae",
   "metadata": {},
   "outputs": [],
   "source": [
    "# Кодирование категориальных признаков\n",
    "X_encoded = pd.get_dummies(X_imputed)"
   ]
  },
  {
   "cell_type": "markdown",
   "id": "4d139aa4",
   "metadata": {},
   "source": [
    "## Разделение данных на обучающую и тестовую выборки\n",
    "Тестовая выборка составит 20% от всего набора. Обучение будет проводиться на 80%."
   ]
  },
  {
   "cell_type": "code",
   "execution_count": 25,
   "id": "e70edd86",
   "metadata": {},
   "outputs": [],
   "source": [
    "# Кодирование целевой переменной\n",
    "y_encoded = LabelEncoder().fit_transform(y)"
   ]
  },
  {
   "cell_type": "markdown",
   "id": "c06fe475",
   "metadata": {},
   "source": [
    "## Масштабирование признаков\n",
    "Для метода опорных векторов важно масштабировать признаки. Мы применим `StandardScaler` только к признакам, переданных в SVM."
   ]
  },
  {
   "cell_type": "code",
   "execution_count": 26,
   "id": "92cab14c",
   "metadata": {},
   "outputs": [],
   "source": [
    "# Разделение данных\n",
    "X_train, X_test, y_train, y_test = train_test_split(X_encoded, y_encoded, test_size=0.2, random_state=42)"
   ]
  },
  {
   "cell_type": "markdown",
   "id": "67d7ce70",
   "metadata": {},
   "source": [
    "## Обучение моделей\n",
    "Мы обучим две модели:\n",
    "- Support Vector Machine (SVM)\n",
    "- Random Forest Classifier"
   ]
  },
  {
   "cell_type": "code",
   "execution_count": 27,
   "id": "3c0c3a20",
   "metadata": {},
   "outputs": [],
   "source": [
    "# Масштабирование данных\n",
    "scaler = StandardScaler()\n",
    "X_train_scaled = scaler.fit_transform(X_train)\n",
    "X_test_scaled = scaler.transform(X_test)"
   ]
  },
  {
   "cell_type": "code",
   "execution_count": 28,
   "id": "23c6d2f4",
   "metadata": {},
   "outputs": [],
   "source": [
    "# Модель 1: Метод опорных векторов\n",
    "svm_model = SVC()\n",
    "svm_model.fit(X_train_scaled, y_train)\n",
    "svm_preds = svm_model.predict(X_test_scaled)"
   ]
  },
  {
   "cell_type": "code",
   "execution_count": 29,
   "id": "af4ac010",
   "metadata": {},
   "outputs": [],
   "source": [
    "# Модель 2: Случайный лес\n",
    "rf_model = RandomForestClassifier(random_state=42)\n",
    "rf_model.fit(X_train, y_train)\n",
    "rf_preds = rf_model.predict(X_test)"
   ]
  },
  {
   "cell_type": "markdown",
   "id": "a47b306f",
   "metadata": {},
   "source": [
    "## Оценка качества моделей\n",
    "Оценим модели с использованием метрик:\n",
    "- **Accuracy** — доля верных предсказаний\n",
    "- **F1 Score** — гармоническое среднее точности и полноты, особенно важно при дисбалансе классов"
   ]
  },
  {
   "cell_type": "code",
   "execution_count": 30,
   "id": "f0b1e1c0",
   "metadata": {},
   "outputs": [
    {
     "name": "stdout",
     "output_type": "stream",
     "text": [
      "--- SVM ---\n",
      "Accuracy: 0.7618739903069467\n",
      "F1 Score: 0.858568412972558\n",
      "\n",
      "--- Random Forest ---\n",
      "Accuracy: 0.7415185783521809\n",
      "F1 Score: 0.8405103668261563\n"
     ]
    }
   ],
   "source": [
    "# Метрики качества\n",
    "print(\"--- SVM ---\")\n",
    "print(\"Accuracy:\", accuracy_score(y_test, svm_preds))\n",
    "print(\"F1 Score:\", f1_score(y_test, svm_preds))\n",
    "cm_svm = confusion_matrix(y_test, svm_preds)\n",
    "print(\"\\n--- Random Forest ---\")\n",
    "print(\"Accuracy:\", accuracy_score(y_test, rf_preds))\n",
    "print(\"F1 Score:\", f1_score(y_test, rf_preds))\n",
    "cm_rf = confusion_matrix(y_test, rf_preds)"
   ]
  },
  {
   "cell_type": "code",
   "execution_count": 31,
   "id": "9aeb9a5a",
   "metadata": {},
   "outputs": [
    {
     "data": {
      "image/png": "[encoded data removed]",
      "text/plain": [
       "<Figure size 1400x500 with 4 Axes>"
      ]
     },
     "metadata": {},
     "output_type": "display_data"
    }
   ],
   "source": [
    "fig, axs = plt.subplots(1, 2, figsize=(14, 5))\n",
    "\n",
    "# SVM\n",
    "sns.heatmap(cm_svm, annot=True, fmt='d', cmap='Blues', ax=axs[0])\n",
    "axs[0].set_title('Confusion Matrix - SVM')\n",
    "axs[0].set_xlabel('Predicted')\n",
    "axs[0].set_ylabel('Actual')\n",
    "axs[0].set_xticklabels(['Female', 'Male'])\n",
    "axs[0].set_yticklabels(['Female', 'Male'])\n",
    "\n",
    "# Random Forest\n",
    "sns.heatmap(cm_rf, annot=True, fmt='d', cmap='Greens', ax=axs[1])\n",
    "axs[1].set_title('Confusion Matrix - Random Forest')\n",
    "axs[1].set_xlabel('Predicted')\n",
    "axs[1].set_ylabel('Actual')\n",
    "axs[1].set_xticklabels(['Female', 'Male'])\n",
    "axs[1].set_yticklabels(['Female', 'Male'])\n",
    "\n",
    "plt.tight_layout()\n",
    "plt.show()"
   ]
  },
  {
   "cell_type": "markdown",
   "id": "231b4572",
   "metadata": {},
   "source": [
    "### Вывод:\n",
    "- **SVM** обеспечивает лучшее общее качество классификации по метрикам.\n",
    "- **Random Forest** может быть предпочтительнее, если нужно повысить чувствительность к женским персонажам.\n",
    "- В условиях дисбаланса классов (больше мужских персонажей), **F1 Score** предпочтительнее для оценки качества."
   ]
  }
 ],
 "metadata": {
  "kernelspec": {
   "display_name": "base",
   "language": "python",
   "name": "python3"
  },
  "language_info": {
   "codemirror_mode": {
    "name": "ipython",
    "version": 3
   },
   "file_extension": ".py",
   "mimetype": "text/x-python",
   "name": "python",
   "nbconvert_exporter": "python",
   "pygments_lexer": "ipython3",
   "version": "3.11.5"
  }
 },
 "nbformat": 4,
 "nbformat_minor": 5
}
